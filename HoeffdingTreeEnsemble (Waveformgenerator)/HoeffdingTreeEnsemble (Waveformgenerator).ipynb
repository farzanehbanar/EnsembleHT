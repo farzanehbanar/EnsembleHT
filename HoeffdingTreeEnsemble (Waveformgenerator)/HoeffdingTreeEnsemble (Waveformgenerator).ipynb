{
  "nbformat": 4,
  "nbformat_minor": 0,
  "metadata": {
    "colab": {
      "name": "HoeffdingTreeEnsemble.ipynb",
      "provenance": [],
      "collapsed_sections": []
    },
    "kernelspec": {
      "name": "python3",
      "display_name": "Python 3"
    },
    "language_info": {
      "name": "python"
    }
  },
  "cells": [
    {
      "cell_type": "markdown",
      "source": [
        "# **Needed Command**\n",
        "- install scikit-muiltiflow"
      ],
      "metadata": {
        "id": "Bo7BBK90rBX0"
      }
    },
    {
      "cell_type": "code",
      "execution_count": 13,
      "metadata": {
        "id": "L3XH3ffBxS_q",
        "colab": {
          "base_uri": "https://localhost:8080/"
        },
        "outputId": "2220415b-138b-47ed-e0cb-9b8e7b909cc1"
      },
      "outputs": [
        {
          "output_type": "stream",
          "name": "stdout",
          "text": [
            "Looking in indexes: https://pypi.org/simple, https://us-python.pkg.dev/colab-wheels/public/simple/\n",
            "Requirement already satisfied: scikit-multiflow in /usr/local/lib/python3.7/dist-packages (0.5.3)\n",
            "Requirement already satisfied: scikit-learn>=0.20 in /usr/local/lib/python3.7/dist-packages (from scikit-multiflow) (1.0.2)\n",
            "Requirement already satisfied: pandas>=0.25.3 in /usr/local/lib/python3.7/dist-packages (from scikit-multiflow) (1.3.5)\n",
            "Requirement already satisfied: matplotlib>=2.0.0 in /usr/local/lib/python3.7/dist-packages (from scikit-multiflow) (3.2.2)\n",
            "Requirement already satisfied: sortedcontainers>=1.5.7 in /usr/local/lib/python3.7/dist-packages (from scikit-multiflow) (2.4.0)\n",
            "Requirement already satisfied: numpy>=1.14.0 in /usr/local/lib/python3.7/dist-packages (from scikit-multiflow) (1.21.6)\n",
            "Requirement already satisfied: scipy>=1.0.0 in /usr/local/lib/python3.7/dist-packages (from scikit-multiflow) (1.7.3)\n",
            "Requirement already satisfied: python-dateutil>=2.1 in /usr/local/lib/python3.7/dist-packages (from matplotlib>=2.0.0->scikit-multiflow) (2.8.2)\n",
            "Requirement already satisfied: pyparsing!=2.0.4,!=2.1.2,!=2.1.6,>=2.0.1 in /usr/local/lib/python3.7/dist-packages (from matplotlib>=2.0.0->scikit-multiflow) (3.0.9)\n",
            "Requirement already satisfied: cycler>=0.10 in /usr/local/lib/python3.7/dist-packages (from matplotlib>=2.0.0->scikit-multiflow) (0.11.0)\n",
            "Requirement already satisfied: kiwisolver>=1.0.1 in /usr/local/lib/python3.7/dist-packages (from matplotlib>=2.0.0->scikit-multiflow) (1.4.4)\n",
            "Requirement already satisfied: typing-extensions in /usr/local/lib/python3.7/dist-packages (from kiwisolver>=1.0.1->matplotlib>=2.0.0->scikit-multiflow) (4.1.1)\n",
            "Requirement already satisfied: pytz>=2017.3 in /usr/local/lib/python3.7/dist-packages (from pandas>=0.25.3->scikit-multiflow) (2022.1)\n",
            "Requirement already satisfied: six>=1.5 in /usr/local/lib/python3.7/dist-packages (from python-dateutil>=2.1->matplotlib>=2.0.0->scikit-multiflow) (1.15.0)\n",
            "Requirement already satisfied: joblib>=0.11 in /usr/local/lib/python3.7/dist-packages (from scikit-learn>=0.20->scikit-multiflow) (1.1.0)\n",
            "Requirement already satisfied: threadpoolctl>=2.0.0 in /usr/local/lib/python3.7/dist-packages (from scikit-learn>=0.20->scikit-multiflow) (3.1.0)\n"
          ]
        }
      ],
      "source": [
        "!pip install scikit-multiflow"
      ]
    },
    {
      "cell_type": "markdown",
      "source": [
        "--------------------------------------------\n",
        "# **Import Data and Classifier**\n",
        "- Streaming Data\n",
        "- Hoeffding Tree Classifier"
      ],
      "metadata": {
        "id": "0Mvy2gpTqpFh"
      }
    },
    {
      "cell_type": "code",
      "source": [
        "from skmultiflow.data import WaveformGenerator\n",
        "from skmultiflow.data import SEAGenerator \n",
        "from skmultiflow.trees import HoeffdingTreeClassifier\n",
        "import matplotlib.pyplot as plt"
      ],
      "metadata": {
        "id": "Qt6owvifrdGC"
      },
      "execution_count": 14,
      "outputs": []
    },
    {
      "cell_type": "markdown",
      "source": [
        "- Run **One** of the Two Below Cells"
      ],
      "metadata": {
        "id": "S1E7ahMZzL9w"
      }
    },
    {
      "cell_type": "code",
      "source": [
        "dataStream = WaveformGenerator(random_state = 1)"
      ],
      "metadata": {
        "id": "eHhuFJd_zFaF"
      },
      "execution_count": 15,
      "outputs": []
    },
    {
      "cell_type": "code",
      "source": [
        "#dataStream = SEAGenerator(random_state = 1)"
      ],
      "metadata": {
        "id": "6pWmh4sezE7I"
      },
      "execution_count": 3,
      "outputs": []
    },
    {
      "cell_type": "markdown",
      "source": [
        "# **Create Model**\n",
        "- Bagging\n",
        "- 5 Hoeffding Tree"
      ],
      "metadata": {
        "id": "KuR0Ns3Csldn"
      }
    },
    {
      "cell_type": "code",
      "source": [
        "nBaseModel = 5\n",
        "hoeffTree = []\n",
        "\n",
        "for i in range(nBaseModel):\n",
        "  hoeffTree = hoeffTree + [HoeffdingTreeClassifier()]\n",
        "print(f'Total Model: Bagging of {nBaseModel} Hoeffding Tree.')"
      ],
      "metadata": {
        "colab": {
          "base_uri": "https://localhost:8080/"
        },
        "id": "nQzeBehFsmAg",
        "outputId": "fb5066cd-b307-4df9-d605-aa9310cf9712"
      },
      "execution_count": 16,
      "outputs": [
        {
          "output_type": "stream",
          "name": "stdout",
          "text": [
            "Total Model: Bagging of 5 Hoeffding Tree.\n"
          ]
        }
      ]
    },
    {
      "cell_type": "markdown",
      "source": [
        "# **Train Model**\n",
        "- Initializing"
      ],
      "metadata": {
        "id": "2ixFTIBU0WlJ"
      }
    },
    {
      "cell_type": "code",
      "source": [
        "maxSample = 20000"
      ],
      "metadata": {
        "id": "H1z4wqo44X2c"
      },
      "execution_count": 17,
      "outputs": []
    },
    {
      "cell_type": "code",
      "source": [
        "def frequentItem(List):\n",
        "    cntr = 0\n",
        "    item = List[0]\n",
        "    for i in List:\n",
        "        currFrequency = List.count(i)\n",
        "        if(currFrequency> cntr):\n",
        "            cntr = currFrequency\n",
        "            item = i\n",
        "    return item"
      ],
      "metadata": {
        "id": "nlDFBqavBSpH"
      },
      "execution_count": 18,
      "outputs": []
    },
    {
      "cell_type": "markdown",
      "source": [
        "- Vote\n",
        "- Poisson Distribution, lambda = 1\n",
        "- Fit Instance to Model"
      ],
      "metadata": {
        "id": "bmgNwUCG4ZrV"
      }
    },
    {
      "cell_type": "code",
      "source": [
        "import numpy as np\n",
        "\n",
        "nSample = 0\n",
        "corrSample = 0\n",
        "accList = []\n",
        "\n",
        "while nSample < maxSample and dataStream.has_more_samples():\n",
        "  X, Y = dataStream.next_sample()\n",
        "\n",
        "  yList = []\n",
        "  for ht in hoeffTree:\n",
        "    yList += [ht.predict(X)]\n",
        "\n",
        "  votedItem = frequentItem(yList)\n",
        "  if votedItem == Y:\n",
        "    corrSample += 1\n",
        "  \n",
        "  for i in range(nBaseModel):\n",
        "    pssnRand = np.random.poisson(1, 1)[0]\n",
        "    if pssnRand > 10:\n",
        "      pssnRand = 10\n",
        "    for j in range(pssnRand):\n",
        "      hoeffTree[i] = hoeffTree[i].partial_fit(X, Y)\n",
        "  nSample += 1\n",
        "  accList.append(corrSample/nSample)\n"
      ],
      "metadata": {
        "id": "1Gj5nl4H0XEw"
      },
      "execution_count": 19,
      "outputs": []
    },
    {
      "cell_type": "markdown",
      "source": [
        "# **Result**\n",
        "- print Accuracy"
      ],
      "metadata": {
        "id": "TU9keYFAGxRl"
      }
    },
    {
      "cell_type": "code",
      "source": [
        "print(f'Ensemble Hoeffding Tree: {nSample} Instance analyzed.')\n",
        "print(f'Accuracy: {corrSample/nSample}')"
      ],
      "metadata": {
        "colab": {
          "base_uri": "https://localhost:8080/"
        },
        "id": "EDMdPLnTGw9b",
        "outputId": "c320b7cb-8534-420f-f804-09a5c65676d6"
      },
      "execution_count": 20,
      "outputs": [
        {
          "output_type": "stream",
          "name": "stdout",
          "text": [
            "Ensemble Hoeffding Tree: 20000 Instance analyzed.\n",
            "Accuracy: 0.80855\n"
          ]
        }
      ]
    },
    {
      "cell_type": "markdown",
      "source": [
        "----------------------------"
      ],
      "metadata": {
        "id": "phH8PX75tfWV"
      }
    },
    {
      "cell_type": "markdown",
      "source": [
        "# **Simple Hoeffing Tree**"
      ],
      "metadata": {
        "id": "xggTSiNuMkEr"
      }
    },
    {
      "cell_type": "code",
      "source": [
        "from skmultiflow.data import WaveformGenerator\n",
        "from skmultiflow.data import SEAGenerator\n",
        "from skmultiflow.trees import HoeffdingTreeClassifier\n",
        "\n",
        "ht = HoeffdingTreeClassifier()\n",
        "dataStream = WaveformGenerator(random_state = 1)\n",
        "#dataStream = SEAGenerator(random_state = 1)\n",
        "X, Y = dataStream.next_sample()\n",
        "nSample = 0\n",
        "corrSample = 0\n",
        "accListS = []\n",
        "\n",
        "while nSample < maxSample and dataStream.has_more_samples():\n",
        "    X, y = dataStream.next_sample()\n",
        "    y_pred = ht.predict(X)\n",
        "    if y[0] == y_pred[0]:\n",
        "        corrSample += 1\n",
        "    ht = ht.partial_fit(X, y)\n",
        "    nSample += 1\n",
        "    accListS.append(corrSample/nSample)\n",
        "\n",
        "print(f'Simple Hoeffding Tree: {nSample} samples analyzed.')\n",
        "print(f'Hoeffding Tree accuracy: {corrSample/nSample}')\n"
      ],
      "metadata": {
        "colab": {
          "base_uri": "https://localhost:8080/"
        },
        "id": "fNnY4ATZMlzt",
        "outputId": "7a0cf5b5-a32c-43f1-ad0d-8c7548ffa3a7"
      },
      "execution_count": 21,
      "outputs": [
        {
          "output_type": "stream",
          "name": "stdout",
          "text": [
            "Simple Hoeffding Tree: 20000 samples analyzed.\n",
            "Hoeffding Tree accuracy: 0.8065\n"
          ]
        }
      ]
    },
    {
      "cell_type": "markdown",
      "source": [
        "-------------------------------------------------------\n",
        "# **PLOT**"
      ],
      "metadata": {
        "id": "ZnsVlEtWOrBy"
      }
    },
    {
      "cell_type": "code",
      "source": [
        "diffAcc = np.subtract(accList, accListS)\n",
        "plt.figure(figsize=(10, 10), dpi=100)\n",
        "plt.plot(diffAcc[1000:], 'g')\n",
        "plt.ylabel('DiffAccuracy')\n",
        "plt.xlabel('Stream')\n",
        "plt.grid(True)\n",
        "plt.show()"
      ],
      "metadata": {
        "id": "0ism49JBXiFb"
      },
      "execution_count": null,
      "outputs": []
    },
    {
      "cell_type": "code",
      "source": [
        "plt.figure(figsize=(10, 10), dpi=100)\n",
        "plt.plot(accList[150:],'b' ,accListS[150:], 'r--')\n",
        "plt.ylabel('Accuracy')\n",
        "plt.xlabel('Stream')\n",
        "plt.grid(True)\n",
        "#plt.text(1000, .21, r'red: Simple Hoeffding Tree')\n",
        "#plt.text(1000, .18, r'blue: Ensemble Hoeffding Tree')\n",
        "plt.show()"
      ],
      "metadata": {
        "id": "3KnumTFJOspj"
      },
      "execution_count": null,
      "outputs": []
    }
  ]
}